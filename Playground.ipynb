{
 "cells": [
  {
   "cell_type": "markdown",
   "metadata": {
    "nbgrader": {
     "grade": false,
     "grade_id": "Introduction",
     "locked": true,
     "schema_version": 3,
     "solution": false
    }
   },
   "source": [
    "# Machine Learning Bootcamp - Actuarial Society Finland\n",
    "\n",
    "<img src=\"AMLProblem.png\" alt=\"Drawing\" style=\"width: 600px;\"/>\n",
    " \n",
    "As discussed in Chapter 2 of the [course book](https://arxiv.org/abs/1805.05052), many machine learning (ML) problems and methods consist of three components: \n",
    "\n",
    "1. data points as the basic unit of information; data points are characterized by features (can be measured easily) and labels (high-level information that is difficult to acquire). \n",
    "2. a hypothesis space (also referred to as a ML model) consisting of computationally feasible predictor functions. \n",
    "3. a loss function that is used to assess the quality of a particular predictor function. \n",
    "\n",
    "To implement ML methods, we need to be able to efficiently **store and manipulate** data and predictor functions.  A quite powerful tool to represent and manipulate data and predictor functions are [matrices and vectors](https://en.wikipedia.org/wiki/Matrix_(mathematics)). \n",
    "\n",
    "Indeed, data points can often characterized by a list of numeric attributes, or \"features\", $x_{r}$ which can be stacked conveniently into a vector $\\mathbf{x}=\\big(x_{1},\\ldots,x_{n}\\big)^{T}$. Moreover, many ML methods (such as linear regression or logistic regression) use predictor functions of the form $h(\\mathbf{x}) = \\mathbf{w}^{T} \\mathbf{x}$ with some weight vector $\\mathbf{w}$. Note that once we restrict ourselves to linear functions of the form $h(\\mathbf{x}) = \\mathbf{w}^{T} \\mathbf{x}$, we can represent a predictor function by the weight vector $\\mathbf{w}$. Indeed, given the weight vector $\\mathbf{w}$, we can evaluate the predictor function for any feature vector $\\mathbf{x}$ as $h(\\mathbf{x}) = \\mathbf{w}^{T} \\mathbf{x}$. \n",
    "\n",
    "## Learning goals\n",
    "\n",
    "In this \"warm-up\" exercise you will learn how to \n",
    "\n",
    "* manipulate matrices and vectors,\n",
    "* use Python dictionaries for accessing datasets,\n",
    "* determine the execution time (which is a measure of computational complexity) of code blocks, \n",
    "* read in data from various sources such as files or the internet,\n",
    "* visualize data using scatter plots,\n",
    "* fit simple functions to data. \n",
    "\n",
    "This notebook contains several student tasks which require you to write a few lines of Python code to solve small problems. In particular, you have to fill in the gaps marked as **Student Task**.\n",
    "\n",
    "\n",
    "\n",
    "## Relevant Parts of [Course Book](https://arxiv.org/abs/1805.05052)  \n",
    "\n",
    "Chapter 1; Chapter 2\n"
   ]
  },
  {
   "cell_type": "markdown",
   "metadata": {
    "nbgrader": {
     "grade": false,
     "grade_id": "cell-569ba7efbf116b67",
     "locked": true,
     "schema_version": 1,
     "solution": false
    }
   },
   "source": [
    "<a id=\"Q3\"></a>\n",
    "\n",
    "## Let's Grab Data!\n",
    "\n",
    "One of the key components of any machine learning problem (and method) is data. There are many different sources of data such as files stored on a hard-disk or internet databases such as [Wikidata](https://www.wikidata.org/wiki/Wikidata:Main_Page). Another source of data is provided in ready-made Python functions which load specific toy datasets https://scikit-learn.org/stable/datasets/index.html. "
   ]
  },
  {
   "cell_type": "markdown",
   "metadata": {},
   "source": [
    "<a id='LoadDataset'></a>\n",
    "<div class=\" alert alert-info\">\n",
    "    <b>Car Crash Data.</b> \n",
    "\n",
    "The code snippet below reads in a data set consituted by reports of car crashes. This data set consists of all drivers involved in a crash in 2004 in New South Wales, Australia. There are  a total of 82659 drivers in the data set. Drivers with unknown age, age less than 17 years, or road user class ``Other\" are omitted, leaving 76341\n",
    "cases.\n",
    "\n",
    "Each case correpsons to one data point with the features: \n",
    "\n",
    "- \"agecat\" ... driver's age, coded as\n",
    "\t\t1 = 17-20\n",
    "\t\t2 = 21-25\n",
    "\t\t3 = 26-29\n",
    "\t\t10 = 30-39 (4 coded as 10 to be base level) \n",
    "\t\t5 = 40-49\n",
    "\t\t6 = 50-59\n",
    "\t\t7 = 60+\n",
    "- \"roaduserclass\"... \t10 = car (coded to be base level)\n",
    "\t\t2 = light truck\n",
    "\t\t4 = bus / heavy rigid truck / articulated truck\n",
    "\t\t6 = motorcycle\n",
    "- \"sex\"\t\tdriver's sex: M, F\n",
    "- \"degree\"\t\tdegree of crash, coded as 1 = non-casualty, 2 = injury, 3 = fatal\n",
    "- \"number\"\t\tfrequency of crashes"
   ]
  },
  {
   "cell_type": "code",
   "execution_count": 47,
   "metadata": {
    "nbgrader": {
     "grade": false,
     "grade_id": "cell-40993ff9d63197d9",
     "locked": false,
     "schema_version": 1,
     "solution": true
    }
   },
   "outputs": [
    {
     "name": "stdout",
     "output_type": "stream",
     "text": [
      "   agecat  roaduserclass sex  degree  number\n",
      "0       1             10   M       3      53\n",
      "1       2             10   M       3      37\n",
      "2       3             10   M       3      19\n",
      "3      10             10   M       3      44\n",
      "4       5             10   M       3      34\n",
      "\n",
      " total number of cases :  76341 \n",
      "\n",
      "one hot encoded age group of first four cases : \n",
      "\n",
      "[[1. 0. 0. 0. 0. 0. 0.]\n",
      " [0. 1. 0. 0. 0. 0. 0.]\n",
      " [0. 0. 1. 0. 0. 0. 0.]\n",
      " [0. 0. 0. 0. 0. 0. 1.]]\n",
      "\n",
      " shape of one hot encoding of age group:  (209, 7) \n",
      "\n",
      "M\n",
      "shape of degree  (209, 3)\n",
      "shape of numbers  (209,)\n",
      "<class 'numpy.ndarray'>\n"
     ]
    }
   ],
   "source": [
    "import pandas as pd             # use shorthand \"pd\" for lib \"pandas\" which provides methods for \n",
    "from sklearn.preprocessing import OneHotEncoder\n",
    "import requests\n",
    "import matplotlib.pyplot as plt\n",
    "import numpy as np\n",
    "\n",
    "\n",
    "\n",
    "enc = OneHotEncoder(handle_unknown='ignore')\n",
    "\n",
    "df = pd.read_csv(\"https://raw.githubusercontent.com/alexjungaalto/ResearchPublic/master/injury.csv\",sep=\";\")\n",
    "#df = pd.read_csv(\"injury.csv\",sep=\";\")\n",
    "print(df.head(5))\n",
    "#print(df.columns[2])\n",
    "\n",
    "X = df.values # convert the data frame to numpy array\n",
    "agecat=X[:,0].reshape(-1,1)\n",
    "user=X[:,1].reshape(-1,1)\n",
    "sex=X[:,2].reshape(-1,1)\n",
    "degree=X[:,3].reshape(-1,1)\n",
    "numbers = X[:,4]\n",
    "print(\"\\n total number of cases : \",np.sum(numbers),\"\\n\")\n",
    "enc.fit(agecat)\n",
    "agecat_new= enc.transform(agecat).toarray()\n",
    "enc.fit(user)\n",
    "user_new = enc.transform(user).toarray()\n",
    "enc.fit(sex)\n",
    "sex_new = enc.transform(sex).toarray()\n",
    "enc.fit(degree)\n",
    "degree_new = enc.transform(degree).toarray()\n",
    "\n",
    "print(\"one hot encoded age group of first four cases : \\n\")\n",
    "print(agecat_new[0:4])\n",
    "print(\"\\n shape of one hot encoding of age group: \", agecat_new.shape, \"\\n\")\n",
    "\n",
    "print(X[7,2])\n",
    "\n",
    "\n",
    "\n",
    "m = X.shape[0]\n",
    "n = X.shape[1]\n",
    "#print('sample size m=', m)\n",
    "#print('feature length n=', n)\n",
    "\n",
    "#df1 = pd.get_dummies(df) # convert the data frame to numpy array\n",
    "\n",
    "#print(df1.head(5))\n",
    "print(\"shape of degree \", degree_new.shape)\n",
    "print(\"shape of numbers \", numbers.shape)\n",
    "print(type(degree))\n",
    "\n",
    "\n",
    "#plot histogram of different degrees\n",
    "\n",
    "#nr_degrees = np.unique(degree).shape[0]\n",
    "#print(nr_degrees)\n",
    "#plt.hist(degree, bins = nr_degrees)\n",
    "#plt.show()\n",
    "#idx=np.where(degree == 1)[0]\n",
    "\n",
    "#print(agecat[idx])"
   ]
  },
  {
   "cell_type": "markdown",
   "metadata": {},
   "source": [
    "The code snippet below generates a scatter plot using different features. "
   ]
  },
  {
   "cell_type": "code",
   "execution_count": 48,
   "metadata": {
    "scrolled": true
   },
   "outputs": [
    {
     "data": {
      "text/plain": [
       "<matplotlib.collections.PathCollection at 0x122310050>"
      ]
     },
     "execution_count": 48,
     "metadata": {},
     "output_type": "execute_result"
    },
    {
     "data": {
      "image/png": "[encoded data removed]",
      "text/plain": [
       "<Figure size 1440x360 with 1 Axes>"
      ]
     },
     "metadata": {
      "needs_background": "light"
     },
     "output_type": "display_data"
    }
   ],
   "source": [
    "indx_1 = np.where(degree == 1)[0] # indices of degree 1 accidents \n",
    "indx_2 = np.where(degree == 2)[0] # indices of degree 2 accidents \n",
    "plt.rc('legend', fontsize=20) \n",
    "\n",
    "num = numbers.astype(float)\n",
    "marker_size=(20*num/(np.amax(num)))**2\n",
    "\n",
    "size1=marker_size[indx_1]\n",
    "size2=marker_size[indx_2]\n",
    "                       \n",
    "plt.scatter(agecat[indx_1], user[indx_1], c='g', s=size1,marker ='x', label='y =1; Class 0 wine')\n",
    "plt.scatter(agecat[indx_2], user[indx_2], c='brown', s=size2, marker ='o', label='y =1; Class 0 wine')"
   ]
  },
  {
   "cell_type": "markdown",
   "metadata": {},
   "source": [
    "The code snippet below reads in the features $\\mathbf{x}^{(i)}$ for each accident case $i=1,\\ldots,m$ into the matrix $\\mathbf{X}=\\big(\\mathbf{x}^{(1)},\\ldots,\\mathbf{x}^{(n)}\\big)^{T} \\in \\mathbb{R}^{m \\times n}$. The accident degree is used as label $y^{(i)}$ and stacked into the vector $\\mathbf{y} = \\big(y^{(1)},\\ldots,y^{(m)} \\big)^{T}$. "
   ]
  },
  {
   "cell_type": "code",
   "execution_count": 49,
   "metadata": {},
   "outputs": [
    {
     "name": "stdout",
     "output_type": "stream",
     "text": [
      "number of original features : 13\n"
     ]
    }
   ],
   "source": [
    "import random\n",
    "from sklearn.datasets import load_iris\n",
    "from sklearn.linear_model import LogisticRegression\n",
    "\n",
    "\n",
    "indx_1 = np.where(degree == 1)[0] # indices of degree 1 accidents \n",
    "indx_2 = np.where(degree == 2)[0] # indices of degree 2 accidents \n",
    "m_acc_2 = indx_2.shape[0]\n",
    "indx_3 = np.where(degree ==3)[0]  #indices of degree 3 accidents\n",
    "m_acc_3 = indx_3.shape[0]\n",
    "n_extra = 2   # number of additional features coming e.g. from case reports\n",
    "case_reports = np.random.randn(m,n_extra)\n",
    "case_reports[indx_2,:] = 5+3*np.random.randn(m_acc_2,n_extra) \n",
    "case_reports[indx_3,:] = -5+3*np.random.randn(m_acc_3,n_extra) \n",
    "snapshots =  np.random.randn(m,100)\n",
    "\n",
    "X = np.concatenate((sex_new, agecat_new,user_new,case_reports,snapshots), axis=1)\n",
    "y = degree; \n",
    "y=y.astype('int')\n",
    "#plt.scatter(case_reports[:,0],case_reports[:,1], c='g')\n",
    "print(\"number of original features :\",sex_new.shape[1]+agecat_new.shape[1]+user_new.shape[1])"
   ]
  },
  {
   "cell_type": "markdown",
   "metadata": {},
   "source": [
    "The code snippet below learns a classifier via logistic regression. "
   ]
  },
  {
   "cell_type": "code",
   "execution_count": 50,
   "metadata": {
    "nbgrader": {
     "grade": false,
     "grade_id": "cell-8088d3ac466a5ece",
     "locked": true,
     "schema_version": 1,
     "solution": false
    }
   },
   "outputs": [
    {
     "name": "stdout",
     "output_type": "stream",
     "text": [
      "[0.00413404 0.00596272 0.00306372 0.00351003 0.0035509  0.00330771\n",
      " 0.00431253 0.00382931 0.0036825  0.00435666 0.00453378 0.00402634\n",
      " 0.00587712 0.13621372 0.11945804 0.00790733 0.00694499 0.00869664\n",
      " 0.00699314 0.01049767 0.00634058 0.00841307 0.00871352 0.00549978\n",
      " 0.00865658 0.00698767 0.00689511 0.00915171 0.00605559 0.01374565\n",
      " 0.00684338 0.00493152 0.00522873 0.00854396 0.00648662 0.01030931\n",
      " 0.00404323 0.00862077 0.00566111 0.00758037 0.00744989 0.00675609\n",
      " 0.00454648 0.00649842 0.00833419 0.00718029 0.00767402 0.00609478\n",
      " 0.00665782 0.00721439 0.00645886 0.00589621 0.00622763 0.00472602\n",
      " 0.00888939 0.00572191 0.00798443 0.00669635 0.00807442 0.00614784\n",
      " 0.00640473 0.0055873  0.00704492 0.005032   0.00473554 0.00830357\n",
      " 0.00497357 0.00461788 0.00611    0.00821659 0.00574229 0.00497533\n",
      " 0.0079364  0.00617383 0.00343394 0.00786622 0.00622579 0.00778386\n",
      " 0.00960356 0.00597691 0.00687556 0.00684274 0.00590288 0.00603186\n",
      " 0.00669156 0.00423725 0.00738658 0.00857717 0.00718538 0.00621017\n",
      " 0.00517104 0.007416   0.0050563  0.00602663 0.00663793 0.00677168\n",
      " 0.00576752 0.00598267 0.00738814 0.00688364 0.00779154 0.0078259\n",
      " 0.00675087 0.00753694 0.00625212 0.00541404 0.00522297 0.00730707\n",
      " 0.00553055 0.00758341 0.00989094 0.00984113 0.00710199 0.00832783\n",
      " 0.00703919]\n",
      "training error =  0.0\n",
      "validation error =  0.20238095238095233\n"
     ]
    },
    {
     "name": "stderr",
     "output_type": "stream",
     "text": [
      "/Library/Frameworks/Python.framework/Versions/3.7/lib/python3.7/site-packages/ipykernel_launcher.py:6: DataConversionWarning: A column-vector y was passed when a 1d array was expected. Please change the shape of y to (n_samples,), for example using ravel().\n",
      "  \n",
      "/Library/Frameworks/Python.framework/Versions/3.7/lib/python3.7/site-packages/sklearn/utils/validation.py:724: DataConversionWarning: A column-vector y was passed when a 1d array was expected. Please change the shape of y to (n_samples, ), for example using ravel().\n",
      "  y = column_or_1d(y, warn=True)\n"
     ]
    }
   ],
   "source": [
    "from sklearn.model_selection import train_test_split\n",
    "from sklearn.ensemble import ExtraTreesClassifier\n",
    "from sklearn.feature_selection import SelectFromModel\n",
    "\n",
    "clf1 = ExtraTreesClassifier(n_estimators=50)\n",
    "clf1 = clf1.fit(X, y)\n",
    "print(clf1.feature_importances_)\n",
    "\n",
    "X_train, X_test, y_train, y_test = train_test_split(X, y, test_size=0.4, random_state=0)\n",
    "\n",
    "clf = LogisticRegression(random_state=0,penalty='none',solver='lbfgs',multi_class='multinomial') \n",
    "clf.fit(X_train, y_train)\n",
    "#print(clf.coef_)\n",
    "print(\"training error = \",1-clf.score(X_train,y_train))\n",
    "print(\"validation error = \",1-clf.score(X_test, y_test)) \n",
    "\n",
    "\n",
    "\n"
   ]
  },
  {
   "cell_type": "markdown",
   "metadata": {
    "nbgrader": {
     "grade": false,
     "grade_id": "Plotting_text",
     "locked": true,
     "schema_version": 3,
     "solution": false
    }
   },
   "source": [
    "<a id=\"Q4\"></a>\n",
    "## Data Visualization - A Picture is Worth A Thousand Words \n",
    "\n",
    "We now study how to use the Python library (or package) `matplotlib` (https://matplotlib.org/index.html) to plot data.\n",
    "\n",
    "Hint: \n",
    "- You can find useful tutorials for the `matplotlib` package under [this link](https://matplotlib.org/3.0.2/tutorials/index.html#introductory)"
   ]
  },
  {
   "cell_type": "code",
   "execution_count": 51,
   "metadata": {
    "nbgrader": {
     "grade": false,
     "grade_id": "cell-8741c3b938700dfa",
     "locked": true,
     "schema_version": 1,
     "solution": false
    }
   },
   "outputs": [
    {
     "data": {
      "text/plain": [
       "<function matplotlib.pyplot.show(*args, **kw)>"
      ]
     },
     "execution_count": 51,
     "metadata": {},
     "output_type": "execute_result"
    },
    {
     "data": {
      "image/png": "[encoded data removed]",
      "text/plain": [
       "<Figure size 1440x360 with 1 Axes>"
      ]
     },
     "metadata": {
      "needs_background": "light"
     },
     "output_type": "display_data"
    }
   ],
   "source": [
    "\n",
    "plt.rcParams[\"figure.figsize\"] = (20,5)\n",
    "plt.scatter(X[indx_1,13],X[indx_1,14],marker='^', label='degree 1')\n",
    "plt.scatter(X[indx_2,13],X[indx_2,14],marker='x', label='degree 2')\n",
    "plt.scatter(X[indx_3,13],X[indx_3,14],marker='o', label='degree 3')\n",
    "#plt.scatter(data[200:400,0],data[200:400,1], c=colors[1], label='second 200 data points')\n",
    "#plt.scatter(data[400:600,0],data[400:600,1], c=colors[2], label='third 200 data points')\n",
    "plt.legend()\n",
    "plt.show"
   ]
  },
  {
   "cell_type": "code",
   "execution_count": 52,
   "metadata": {
    "nbgrader": {
     "grade": false,
     "grade_id": "cell-0132950964abbce3",
     "locked": true,
     "schema_version": 1,
     "solution": false
    }
   },
   "outputs": [
    {
     "name": "stdout",
     "output_type": "stream",
     "text": [
      "training error =  0.02400000000000002\n",
      "validation error =  0.023809523809523836\n"
     ]
    },
    {
     "name": "stderr",
     "output_type": "stream",
     "text": [
      "/Library/Frameworks/Python.framework/Versions/3.7/lib/python3.7/site-packages/sklearn/utils/validation.py:724: DataConversionWarning: A column-vector y was passed when a 1d array was expected. Please change the shape of y to (n_samples, ), for example using ravel().\n",
      "  y = column_or_1d(y, warn=True)\n"
     ]
    }
   ],
   "source": [
    "X_sel = X[:,[13,14]] \n",
    "\n",
    "X_train, X_test, y_train, y_test = train_test_split(X_sel, y, test_size=0.4, random_state=0)\n",
    "\n",
    "clf = LogisticRegression(random_state=0,penalty='none',solver='lbfgs',multi_class='multinomial') \n",
    "clf.fit(X_train, y_train)\n",
    "#print(clf.coef_)\n",
    "print(\"training error = \",1-clf.score(X_train,y_train))\n",
    "print(\"validation error = \",1-clf.score(X_test, y_test)) \n"
   ]
  },
  {
   "cell_type": "code",
   "execution_count": null,
   "metadata": {},
   "outputs": [],
   "source": []
  },
  {
   "cell_type": "code",
   "execution_count": null,
   "metadata": {},
   "outputs": [],
   "source": []
  }
 ],
 "metadata": {
  "celltoolbar": "Create Assignment",
  "kernelspec": {
   "display_name": "Python 3",
   "language": "python",
   "name": "python3"
  },
  "language_info": {
   "codemirror_mode": {
    "name": "ipython",
    "version": 3
   },
   "file_extension": ".py",
   "mimetype": "text/x-python",
   "name": "python",
   "nbconvert_exporter": "python",
   "pygments_lexer": "ipython3",
   "version": "3.7.4"
  },
  "varInspector": {
   "cols": {
    "lenName": 16,
    "lenType": 16,
    "lenVar": 40
   },
   "kernels_config": {
    "python": {
     "delete_cmd_postfix": "",
     "delete_cmd_prefix": "del ",
     "library": "var_list.py",
     "varRefreshCmd": "print(var_dic_list())"
    },
    "r": {
     "delete_cmd_postfix": ") ",
     "delete_cmd_prefix": "rm(",
     "library": "var_list.r",
     "varRefreshCmd": "cat(var_dic_list()) "
    }
   },
   "types_to_exclude": [
    "module",
    "function",
    "builtin_function_or_method",
    "instance",
    "_Feature"
   ],
   "window_display": false
  }
 },
 "nbformat": 4,
 "nbformat_minor": 2
}
