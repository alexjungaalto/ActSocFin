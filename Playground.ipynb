{
 "cells": [
  {
   "cell_type": "markdown",
   "metadata": {
    "nbgrader": {
     "grade": false,
     "grade_id": "Introduction",
     "locked": true,
     "schema_version": 3,
     "solution": false
    }
   },
   "source": [
    "# Machine Learning Bootcamp - Actuarial Society Finland\n",
    "\n",
    "<img src=\"AMLProblem.png\" alt=\"Drawing\" style=\"width: 600px;\"/>\n",
    " \n",
    "As discussed in Chapter 2 of the [course book](https://arxiv.org/abs/1805.05052), many machine learning (ML) problems and methods consist of three components: \n",
    "\n",
    "1. data points as the basic unit of information; data points are characterized by features (can be measured easily) and labels (high-level information that is difficult to acquire). \n",
    "2. a hypothesis space (also referred to as a ML model) consisting of computationally feasible predictor functions. \n",
    "3. a loss function that is used to assess the quality of a particular predictor function. \n",
    "\n",
    "To implement ML methods, we need to be able to efficiently **store and manipulate** data and predictor functions.  A quite powerful tool to represent and manipulate data and predictor functions are [matrices and vectors](https://en.wikipedia.org/wiki/Matrix_(mathematics)). \n",
    "\n",
    "Indeed, data points can often characterized by a list of numeric attributes, or \"features\", $x_{r}$ which can be stacked conveniently into a vector $\\mathbf{x}=\\big(x_{1},\\ldots,x_{n}\\big)^{T}$. Moreover, many ML methods (such as linear regression or logistic regression) use predictor functions of the form $h(\\mathbf{x}) = \\mathbf{w}^{T} \\mathbf{x}$ with some weight vector $\\mathbf{w}$. Note that once we restrict ourselves to linear functions of the form $h(\\mathbf{x}) = \\mathbf{w}^{T} \\mathbf{x}$, we can represent a predictor function by the weight vector $\\mathbf{w}$. Indeed, given the weight vector $\\mathbf{w}$, we can evaluate the predictor function for any feature vector $\\mathbf{x}$ as $h(\\mathbf{x}) = \\mathbf{w}^{T} \\mathbf{x}$. \n",
    "\n",
    "## Learning goals\n",
    "\n",
    "In this \"warm-up\" exercise you will learn how to \n",
    "\n",
    "* manipulate matrices and vectors,\n",
    "* use Python dictionaries for accessing datasets,\n",
    "* determine the execution time (which is a measure of computational complexity) of code blocks, \n",
    "* read in data from various sources such as files or the internet,\n",
    "* visualize data using scatter plots,\n",
    "* fit simple functions to data. \n",
    "\n",
    "This notebook contains several student tasks which require you to write a few lines of Python code to solve small problems. In particular, you have to fill in the gaps marked as **Student Task**.\n",
    "\n",
    "\n",
    "\n",
    "## Relevant Parts of [Course Book](https://arxiv.org/abs/1805.05052)  \n",
    "\n",
    "Chapter 1; Chapter 2\n"
   ]
  },
  {
   "cell_type": "markdown",
   "metadata": {
    "nbgrader": {
     "grade": false,
     "grade_id": "cell-569ba7efbf116b67",
     "locked": true,
     "schema_version": 1,
     "solution": false
    }
   },
   "source": [
    "<a id=\"Q3\"></a>\n",
    "\n",
    "## Let's Grab Data!\n",
    "\n",
    "One of the key components of any machine learning problem (and method) is data. There are many different sources of data such as files stored on a hard-disk or internet databases such as [Wikidata](https://www.wikidata.org/wiki/Wikidata:Main_Page). Another source of data is provided in ready-made Python functions which load specific toy datasets https://scikit-learn.org/stable/datasets/index.html. "
   ]
  },
  {
   "cell_type": "markdown",
   "metadata": {},
   "source": [
    "<a id='LoadDataset'></a>\n",
    "<div class=\" alert alert-info\">\n",
    "    <b>Car Crash Data.</b> \n",
    "\n",
    "The code snippet below reads in a data set consituted by reports of car crashes. This data set consists of all drivers involved in a crash in 2004 in New South Wales, Australia. There are  a total of 82659 drivers in the data set. Drivers with unknown age, age less than 17 years, or road user class ``Other\" are omitted, leaving 76341\n",
    "cases.\n",
    "\n",
    "Each case correpsons to one data point with the features: \n",
    "\n",
    "- \"agecat\" ... driver's age, coded as\n",
    "\t\t1 = 17-20\n",
    "\t\t2 = 21-25\n",
    "\t\t3 = 26-29\n",
    "\t\t10 = 30-39 (4 coded as 10 to be base level) \n",
    "\t\t5 = 40-49\n",
    "\t\t6 = 50-59\n",
    "\t\t7 = 60+\n",
    "- \"roaduserclass\"... \t10 = car (coded to be base level)\n",
    "\t\t2 = light truck\n",
    "\t\t4 = bus / heavy rigid truck / articulated truck\n",
    "\t\t6 = motorcycle\n",
    "- \"sex\"\t\tdriver's sex: M, F\n",
    "- \"degree\"\t\tdegree of crash, coded as 1 = non-casualty, 2 = injury, 3 = fatal\n",
    "- \"number\"\t\tfrequency of crashes"
   ]
  },
  {
   "cell_type": "code",
   "execution_count": 5,
   "metadata": {
    "nbgrader": {
     "grade": false,
     "grade_id": "cell-40993ff9d63197d9",
     "locked": false,
     "schema_version": 1,
     "solution": true
    }
   },
   "outputs": [
    {
     "name": "stdout",
     "output_type": "stream",
     "text": [
      "   agecat  roaduserclass sex  degree  number\n",
      "0       1             10   M       3      53\n",
      "1       2             10   M       3      37\n",
      "2       3             10   M       3      19\n",
      "3      10             10   M       3      44\n",
      "4       5             10   M       3      34\n",
      "\n",
      " total number of cases :  76341 \n",
      "\n",
      "one hot encoded age group of first four cases : \n",
      "\n",
      "[[1. 0. 0. 0. 0. 0. 0.]\n",
      " [0. 1. 0. 0. 0. 0. 0.]\n",
      " [0. 0. 1. 0. 0. 0. 0.]\n",
      " [0. 0. 0. 0. 0. 0. 1.]]\n",
      "\n",
      " shape of one hot encoding of age group:  (209, 7) \n",
      "\n",
      "M\n",
      "shape of degree  (209, 3)\n",
      "shape of numbers  (209,)\n",
      "<class 'numpy.ndarray'>\n"
     ]
    }
   ],
   "source": [
    "import pandas as pd             # use shorthand \"pd\" for lib \"pandas\" which provides methods for \n",
    "from sklearn.preprocessing import OneHotEncoder\n",
    "import requests\n",
    "import matplotlib.pyplot as plt\n",
    "import numpy as np\n",
    "\n",
    "\n",
    "\n",
    "enc = OneHotEncoder(handle_unknown='ignore')\n",
    "\n",
    "df = pd.read_csv(\"https://raw.githubusercontent.com/alexjungaalto/ResearchPublic/master/injury.csv\",sep=\";\")\n",
    "#df = pd.read_csv(\"injury.csv\",sep=\";\")\n",
    "print(df.head(5))\n",
    "#print(df.columns[2])\n",
    "\n",
    "X = df.values # convert the data frame to numpy array\n",
    "agecat=X[:,0].reshape(-1,1)\n",
    "user=X[:,1].reshape(-1,1)\n",
    "sex=X[:,2].reshape(-1,1)\n",
    "degree=X[:,3].reshape(-1,1)\n",
    "numbers = X[:,4]\n",
    "print(\"\\n total number of cases : \",np.sum(numbers),\"\\n\")\n",
    "enc.fit(agecat)\n",
    "agecat_new= enc.transform(agecat).toarray()\n",
    "enc.fit(user)\n",
    "user_new = enc.transform(user).toarray()\n",
    "enc.fit(sex)\n",
    "sex_new = enc.transform(sex).toarray()\n",
    "enc.fit(degree)\n",
    "degree_new = enc.transform(degree).toarray()\n",
    "\n",
    "print(\"one hot encoded age group of first four cases : \\n\")\n",
    "print(agecat_new[0:4])\n",
    "print(\"\\n shape of one hot encoding of age group: \", agecat_new.shape, \"\\n\")\n",
    "\n",
    "print(X[7,2])\n",
    "\n",
    "\n",
    "\n",
    "m = X.shape[0]\n",
    "n = X.shape[1]\n",
    "#print('sample size m=', m)\n",
    "#print('feature length n=', n)\n",
    "\n",
    "#df1 = pd.get_dummies(df) # convert the data frame to numpy array\n",
    "\n",
    "#print(df1.head(5))\n",
    "print(\"shape of degree \", degree_new.shape)\n",
    "print(\"shape of numbers \", numbers.shape)\n",
    "print(type(degree))\n",
    "\n",
    "\n",
    "#plot histogram of different degrees\n",
    "\n",
    "#nr_degrees = np.unique(degree).shape[0]\n",
    "#print(nr_degrees)\n",
    "#plt.hist(degree, bins = nr_degrees)\n",
    "#plt.show()\n",
    "#idx=np.where(degree == 1)[0]\n",
    "\n",
    "#print(agecat[idx])"
   ]
  },
  {
   "cell_type": "markdown",
   "metadata": {},
   "source": [
    "The code snippet below generates a scatter plot using different features. "
   ]
  },
  {
   "cell_type": "code",
   "execution_count": 6,
   "metadata": {
    "scrolled": true
   },
   "outputs": [
    {
     "data": {
      "text/plain": [
       "<matplotlib.collections.PathCollection at 0x11c508850>"
      ]
     },
     "execution_count": 6,
     "metadata": {},
     "output_type": "execute_result"
    },
    {
     "data": {
      "image/png": "[encoded data removed]",
      "text/plain": [
       "<Figure size 432x288 with 1 Axes>"
      ]
     },
     "metadata": {
      "needs_background": "light"
     },
     "output_type": "display_data"
    }
   ],
   "source": [
    "indx_1 = np.where(degree == 1)[0] # indices of degree 1 accidents \n",
    "indx_2 = np.where(degree == 2)[0] # indices of degree 2 accidents \n",
    "plt.rc('legend', fontsize=20) \n",
    "\n",
    "num = numbers.astype(float)\n",
    "marker_size=(20*num/(np.amax(num)))**2\n",
    "\n",
    "size1=marker_size[indx_1]\n",
    "size2=marker_size[indx_2]\n",
    "                       \n",
    "plt.scatter(agecat[indx_1], user[indx_1], c='g', s=size1,marker ='x', label='y =1; Class 0 wine')\n",
    "plt.scatter(agecat[indx_2], user[indx_2], c='brown', s=size2, marker ='o', label='y =1; Class 0 wine')"
   ]
  },
  {
   "cell_type": "markdown",
   "metadata": {},
   "source": [
    "The code snippet below reads in the features $\\mathbf{x}^{(i)}$ for each accident case $i=1,\\ldots,m$ into the matrix $\\mathbf{X}=\\big(\\mathbf{x}^{(1)},\\ldots,\\mathbf{x}^{(n)}\\big)^{T} \\in \\mathbb{R}^{m \\times n}$. The accident degree is used as label $y^{(i)}$ and stacked into the vector $\\mathbf{y} = \\big(y^{(1)},\\ldots,y^{(m)} \\big)^{T}$. "
   ]
  },
  {
   "cell_type": "code",
   "execution_count": 13,
   "metadata": {},
   "outputs": [
    {
     "name": "stdout",
     "output_type": "stream",
     "text": [
      "number of original features : 13\n"
     ]
    },
    {
     "data": {
      "image/png": "[encoded data removed]",
      "text/plain": [
       "<Figure size 432x288 with 1 Axes>"
      ]
     },
     "metadata": {
      "needs_background": "light"
     },
     "output_type": "display_data"
    }
   ],
   "source": [
    "import random\n",
    "from sklearn.datasets import load_iris\n",
    "from sklearn.linear_model import LogisticRegression\n",
    "\n",
    "\n",
    "indx_1 = np.where(degree == 1)[0] # indices of degree 1 accidents \n",
    "indx_2 = np.where(degree == 2)[0] # indices of degree 2 accidents \n",
    "m_acc_2 = indx_2.shape[0]\n",
    "indx_3 = np.where(degree ==3)[0]  #indices of degree 3 accidents\n",
    "m_acc_3 = indx_3.shape[0]\n",
    "n_extra = 2   # number of additional features coming e.g. from case reports\n",
    "case_reports = np.random.randn(m,n_extra)\n",
    "case_reports[indx_2,:] = 5+3*np.random.randn(m_acc_2,n_extra) \n",
    "case_reports[indx_3,:] = -5+3*np.random.randn(m_acc_3,n_extra) \n",
    "snapshots =  np.random.randn(m,100)\n",
    "\n",
    "X = np.concatenate((sex_new, agecat_new,user_new,case_reports,snapshots), axis=1)\n",
    "y = degree; \n",
    "y=y.astype('int')\n",
    "plt.scatter(case_reports[:,0],case_reports[:,1], c='g')\n",
    "print(\"number of original features :\",sex_new.shape[1]+agecat_new.shape[1]+user_new.shape[1])"
   ]
  },
  {
   "cell_type": "markdown",
   "metadata": {},
   "source": [
    "The code snippet below learns a classifier via logistic regression. "
   ]
  },
  {
   "cell_type": "code",
   "execution_count": 14,
   "metadata": {
    "nbgrader": {
     "grade": false,
     "grade_id": "cell-8088d3ac466a5ece",
     "locked": true,
     "schema_version": 1,
     "solution": false
    }
   },
   "outputs": [
    {
     "name": "stdout",
     "output_type": "stream",
     "text": [
      "[0.00375475 0.0073801  0.0021615  0.00392235 0.00405751 0.00442763\n",
      " 0.00457738 0.00358859 0.00393951 0.0032412  0.00553331 0.00475248\n",
      " 0.00437912 0.13346738 0.09184327 0.00748599 0.00474148 0.00538701\n",
      " 0.00658036 0.00569011 0.01097852 0.00549286 0.00786052 0.00548304\n",
      " 0.00595455 0.00668361 0.0075697  0.00519459 0.00885248 0.00571779\n",
      " 0.00744371 0.00974369 0.00496328 0.00828284 0.00601968 0.00616026\n",
      " 0.00595303 0.0106365  0.00494318 0.00621663 0.01008338 0.00529564\n",
      " 0.00651703 0.00739568 0.00701298 0.00887422 0.00738365 0.00991029\n",
      " 0.00484838 0.00542292 0.00582992 0.00730787 0.0050027  0.00603796\n",
      " 0.0092944  0.00604798 0.00584543 0.00770929 0.00718827 0.00832852\n",
      " 0.00501419 0.00699332 0.00633993 0.00593803 0.00655723 0.00536261\n",
      " 0.0079615  0.00982381 0.00748626 0.0056757  0.00745696 0.00949131\n",
      " 0.00702268 0.0108474  0.00680822 0.00829462 0.00911473 0.00749888\n",
      " 0.00616348 0.0099704  0.00704358 0.00675121 0.00507725 0.00519771\n",
      " 0.00706684 0.00783452 0.00771847 0.0069442  0.00791407 0.01124383\n",
      " 0.00808528 0.00892816 0.00509159 0.01073526 0.01092285 0.00472902\n",
      " 0.00937361 0.00758391 0.00542122 0.00598498 0.01216549 0.00487473\n",
      " 0.00728345 0.00695867 0.0087666  0.00698549 0.01030689 0.00536306\n",
      " 0.00516886 0.0061906  0.00670052 0.00684499 0.00711188 0.00884677\n",
      " 0.00456517]\n",
      "training error =  0.0\n",
      "validation error =  0.2142857142857143\n"
     ]
    },
    {
     "name": "stderr",
     "output_type": "stream",
     "text": [
      "/Library/Frameworks/Python.framework/Versions/3.7/lib/python3.7/site-packages/ipykernel_launcher.py:6: DataConversionWarning: A column-vector y was passed when a 1d array was expected. Please change the shape of y to (n_samples,), for example using ravel().\n",
      "  \n",
      "/Library/Frameworks/Python.framework/Versions/3.7/lib/python3.7/site-packages/sklearn/utils/validation.py:724: DataConversionWarning: A column-vector y was passed when a 1d array was expected. Please change the shape of y to (n_samples, ), for example using ravel().\n",
      "  y = column_or_1d(y, warn=True)\n",
      "/Library/Frameworks/Python.framework/Versions/3.7/lib/python3.7/site-packages/sklearn/linear_model/sag.py:337: ConvergenceWarning: The max_iter was reached which means the coef_ did not converge\n",
      "  \"the coef_ did not converge\", ConvergenceWarning)\n"
     ]
    }
   ],
   "source": [
    "from sklearn.model_selection import train_test_split\n",
    "from sklearn.ensemble import ExtraTreesClassifier\n",
    "from sklearn.feature_selection import SelectFromModel\n",
    "\n",
    "clf1 = ExtraTreesClassifier(n_estimators=50)\n",
    "clf1 = clf1.fit(X, y)\n",
    "print(clf1.feature_importances_)\n",
    "\n",
    "\n",
    "X_train, X_test, y_train, y_test = train_test_split(X, y, test_size=0.4, random_state=0)\n",
    "\n",
    "clf = LogisticRegression(C=10000000,random_state=0, penalty='l1',solver='saga',multi_class='multinomial') \n",
    "clf.fit(X_train, y_train)\n",
    "#print(clf.coef_)\n",
    "print(\"training error = \",1-clf.score(X_train,y_train))\n",
    "print(\"validation error = \",1-clf.score(X_test, y_test)) \n",
    "\n",
    "\n",
    "\n"
   ]
  },
  {
   "cell_type": "markdown",
   "metadata": {
    "nbgrader": {
     "grade": false,
     "grade_id": "Plotting_text",
     "locked": true,
     "schema_version": 3,
     "solution": false
    }
   },
   "source": [
    "<a id=\"Q4\"></a>\n",
    "## Data Visualization - A Picture is Worth A Thousand Words \n",
    "\n",
    "We now study how to use the Python library (or package) `matplotlib` (https://matplotlib.org/index.html) to plot data.\n",
    "\n",
    "Hint: \n",
    "- You can find useful tutorials for the `matplotlib` package under [this link](https://matplotlib.org/3.0.2/tutorials/index.html#introductory)"
   ]
  },
  {
   "cell_type": "code",
   "execution_count": 13,
   "metadata": {
    "nbgrader": {
     "grade": false,
     "grade_id": "cell-8741c3b938700dfa",
     "locked": true,
     "schema_version": 1,
     "solution": false
    }
   },
   "outputs": [],
   "source": [
    "def ScatterPlots():\n",
    "    \"\"\"\n",
    "    Plot the scatterplot of all the data, then plot the scatterplot of the 3 subsets,\n",
    "    each one with a different color\n",
    "\n",
    "    return: axes object used for testing, containing the 2 scatterplots.    \n",
    "    \"\"\"\n",
    "\n",
    "    fig, axes = plt.subplots(1, 2, figsize=(15, 5))\n",
    "    data, _, _, = LoadData(\"Data.csv\")  # load data from csv file\n",
    "\n",
    "    colors = ['r', 'g', 'b']\n",
    "\n",
    "    axes[0].scatter(data[:,0],data[:,1], label='All data')\n",
    "    axes[0].legend()\n",
    "    axes[1].scatter(data[0:200,0],data[0:200,1], c=colors[0], label='first 200 data points')\n",
    "    axes[1].scatter(data[200:400,0],data[200:400,1], c=colors[1], label='second 200 data points')\n",
    "    axes[1].scatter(data[400:600,0],data[400:600,1], c=colors[2], label='third 200 data points')\n",
    "    axes[1].legend()\n",
    "\n",
    "    return axes"
   ]
  },
  {
   "cell_type": "code",
   "execution_count": 14,
   "metadata": {
    "nbgrader": {
     "grade": false,
     "grade_id": "cell-0132950964abbce3",
     "locked": true,
     "schema_version": 1,
     "solution": false
    }
   },
   "outputs": [
    {
     "name": "stdout",
     "output_type": "stream",
     "text": [
      "sample size m= 600\n",
      "feature length n= 2\n"
     ]
    },
    {
     "data": {
      "image/png": "[encoded data removed]",
      "text/plain": [
       "<matplotlib.figure.Figure at 0x121fc6748>"
      ]
     },
     "metadata": {},
     "output_type": "display_data"
    }
   ],
   "source": [
    "axes = ScatterPlots()\n",
    "plt.show()"
   ]
  }
 ],
 "metadata": {
  "celltoolbar": "Create Assignment",
  "kernelspec": {
   "display_name": "Python 3",
   "language": "python",
   "name": "python3"
  },
  "language_info": {
   "codemirror_mode": {
    "name": "ipython",
    "version": 3
   },
   "file_extension": ".py",
   "mimetype": "text/x-python",
   "name": "python",
   "nbconvert_exporter": "python",
   "pygments_lexer": "ipython3",
   "version": "3.7.4"
  },
  "varInspector": {
   "cols": {
    "lenName": 16,
    "lenType": 16,
    "lenVar": 40
   },
   "kernels_config": {
    "python": {
     "delete_cmd_postfix": "",
     "delete_cmd_prefix": "del ",
     "library": "var_list.py",
     "varRefreshCmd": "print(var_dic_list())"
    },
    "r": {
     "delete_cmd_postfix": ") ",
     "delete_cmd_prefix": "rm(",
     "library": "var_list.r",
     "varRefreshCmd": "cat(var_dic_list()) "
    }
   },
   "types_to_exclude": [
    "module",
    "function",
    "builtin_function_or_method",
    "instance",
    "_Feature"
   ],
   "window_display": false
  }
 },
 "nbformat": 4,
 "nbformat_minor": 2
}
